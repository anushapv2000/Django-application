{
 "cells": [
  {
   "cell_type": "code",
   "execution_count": 3,
   "id": "4e0e6088",
   "metadata": {},
   "outputs": [
    {
     "name": "stdout",
     "output_type": "stream",
     "text": [
      "Collecting mysql-connector-python==8.0.30\n",
      "  Downloading mysql_connector_python-8.0.30-cp39-cp39-win_amd64.whl (7.8 MB)\n",
      "     ---------------------------------------- 7.8/7.8 MB 3.2 MB/s eta 0:00:00\n",
      "Requirement already satisfied: protobuf<=3.20.1,>=3.11.0 in c:\\users\\anush\\anaconda3\\lib\\site-packages (from mysql-connector-python==8.0.30) (3.19.1)\n",
      "Installing collected packages: mysql-connector-python\n",
      "Successfully installed mysql-connector-python-8.0.30\n",
      "Note: you may need to restart the kernel to use updated packages.\n"
     ]
    }
   ],
   "source": [
    "pip install mysql-connector-python==8.0.30 "
   ]
  },
  {
   "cell_type": "code",
   "execution_count": 1,
   "id": "c3218e55",
   "metadata": {},
   "outputs": [],
   "source": [
    "import mysql.connector\n",
    "from mysql.connector import Error\n",
    "import csv"
   ]
  },
  {
   "cell_type": "code",
   "execution_count": 2,
   "id": "87c3c42c",
   "metadata": {},
   "outputs": [],
   "source": [
    "import os\n",
    "import shutil\n",
    "import requests\n",
    "from urllib.request import urlretrieve\n",
    "from bs4 import BeautifulSoup"
   ]
  },
  {
   "cell_type": "code",
   "execution_count": 4,
   "id": "d8aa5724",
   "metadata": {},
   "outputs": [],
   "source": [
    "url1=\"https://www.nseindia.com/market-data/securities-available-for-trading\""
   ]
  },
  {
   "cell_type": "code",
   "execution_count": null,
   "id": "909e4a52",
   "metadata": {},
   "outputs": [],
   "source": [
    "import requests\n",
    "\n",
    "URL =\"https://archives.nseindia.com/content/equities/EQUITY_L.csv\"\n",
    "response = requests.get(URL)"
   ]
  },
  {
   "cell_type": "code",
   "execution_count": null,
   "id": "e520ac15",
   "metadata": {},
   "outputs": [],
   "source": [
    " open(\"EQUITY_L.csv\", \"wb\").write(response.content)"
   ]
  },
  {
   "cell_type": "code",
   "execution_count": null,
   "id": "ae47d2e0",
   "metadata": {},
   "outputs": [],
   "source": [
    "url2=\"https://archives.nseindia.com/content/historical/EQUITIES/2022/OCT/cm07OCT2022bhav.csv.zip\""
   ]
  },
  {
   "cell_type": "code",
   "execution_count": null,
   "id": "ee346895",
   "metadata": {},
   "outputs": [],
   "source": [
    "response = requests.get(url2)\n",
    "open(\"cm07OCT2022bhav.csv\", \"wb\").write(response.content)"
   ]
  },
  {
   "cell_type": "code",
   "execution_count": null,
   "id": "e2e37446",
   "metadata": {},
   "outputs": [],
   "source": []
  },
  {
   "cell_type": "code",
   "execution_count": null,
   "id": "88fa12d4",
   "metadata": {},
   "outputs": [],
   "source": []
  },
  {
   "cell_type": "code",
   "execution_count": 21,
   "id": "379fb795",
   "metadata": {},
   "outputs": [],
   "source": [
    "conn=mysql.connector.connect(host='127.0.0.1',\n",
    "                                         port='3306',\n",
    "                                         database='EQUITY_L',\n",
    "                                         user='root',\n",
    "                                         password='Sandstone@34')"
   ]
  },
  {
   "cell_type": "code",
   "execution_count": 88,
   "id": "8718493c",
   "metadata": {},
   "outputs": [],
   "source": [
    "with open('C:/Users/anush/Videos/zing42/EQUITY_L.csv') as equity:\n",
    "    f=csv.reader(equity)\n",
    "    vals=[]\n",
    "    for r in f:\n",
    "        v=(r[0],r[1],r[2],r[3],r[4],r[5],r[6],r[7])\n",
    "        vals.append(v)"
   ]
  },
  {
   "cell_type": "code",
   "execution_count": 105,
   "id": "2a4077c1",
   "metadata": {},
   "outputs": [],
   "source": [
    "b=vals[1:]\n"
   ]
  },
  {
   "cell_type": "code",
   "execution_count": 23,
   "id": "b9233926",
   "metadata": {},
   "outputs": [],
   "source": [
    "df=pd.read_csv('C:/Users/anush/Videos/zing42/EQUITY_L.csv')"
   ]
  },
  {
   "cell_type": "code",
   "execution_count": 22,
   "id": "1190a0ce",
   "metadata": {},
   "outputs": [],
   "source": [
    "cursor=conn.cursor()"
   ]
  },
  {
   "cell_type": "code",
   "execution_count": 35,
   "id": "3eef5d93",
   "metadata": {
    "scrolled": true
   },
   "outputs": [
    {
     "data": {
      "text/html": [
       "<div>\n",
       "<style scoped>\n",
       "    .dataframe tbody tr th:only-of-type {\n",
       "        vertical-align: middle;\n",
       "    }\n",
       "\n",
       "    .dataframe tbody tr th {\n",
       "        vertical-align: top;\n",
       "    }\n",
       "\n",
       "    .dataframe thead th {\n",
       "        text-align: right;\n",
       "    }\n",
       "</style>\n",
       "<table border=\"1\" class=\"dataframe\">\n",
       "  <thead>\n",
       "    <tr style=\"text-align: right;\">\n",
       "      <th></th>\n",
       "      <th>SYMBOL</th>\n",
       "      <th>NAME OF COMPANY</th>\n",
       "      <th>SERIES</th>\n",
       "      <th>DATE OF LISTING</th>\n",
       "      <th>PAID UP VALUE</th>\n",
       "      <th>MARKET LOT</th>\n",
       "      <th>ISIN NUMBER</th>\n",
       "      <th>FACE VALUE</th>\n",
       "    </tr>\n",
       "  </thead>\n",
       "  <tbody>\n",
       "    <tr>\n",
       "      <th>0</th>\n",
       "      <td>20MICRONS</td>\n",
       "      <td>20 Microns Limited</td>\n",
       "      <td>EQ</td>\n",
       "      <td>06-OCT-2008</td>\n",
       "      <td>5</td>\n",
       "      <td>1</td>\n",
       "      <td>INE144J01027</td>\n",
       "      <td>5</td>\n",
       "    </tr>\n",
       "    <tr>\n",
       "      <th>1</th>\n",
       "      <td>21STCENMGM</td>\n",
       "      <td>21st Century Management Services Limited</td>\n",
       "      <td>EQ</td>\n",
       "      <td>03-MAY-1995</td>\n",
       "      <td>10</td>\n",
       "      <td>1</td>\n",
       "      <td>INE253B01015</td>\n",
       "      <td>10</td>\n",
       "    </tr>\n",
       "    <tr>\n",
       "      <th>2</th>\n",
       "      <td>3IINFOLTD</td>\n",
       "      <td>3i Infotech Limited</td>\n",
       "      <td>EQ</td>\n",
       "      <td>22-OCT-2021</td>\n",
       "      <td>10</td>\n",
       "      <td>1</td>\n",
       "      <td>INE748C01038</td>\n",
       "      <td>10</td>\n",
       "    </tr>\n",
       "    <tr>\n",
       "      <th>3</th>\n",
       "      <td>3MINDIA</td>\n",
       "      <td>3M India Limited</td>\n",
       "      <td>EQ</td>\n",
       "      <td>13-AUG-2004</td>\n",
       "      <td>10</td>\n",
       "      <td>1</td>\n",
       "      <td>INE470A01017</td>\n",
       "      <td>10</td>\n",
       "    </tr>\n",
       "    <tr>\n",
       "      <th>4</th>\n",
       "      <td>3PLAND</td>\n",
       "      <td>3P Land Holdings Limited</td>\n",
       "      <td>EQ</td>\n",
       "      <td>19-JUL-1995</td>\n",
       "      <td>2</td>\n",
       "      <td>1</td>\n",
       "      <td>INE105C01023</td>\n",
       "      <td>2</td>\n",
       "    </tr>\n",
       "  </tbody>\n",
       "</table>\n",
       "</div>"
      ],
      "text/plain": [
       "       SYMBOL                           NAME OF COMPANY  SERIES  \\\n",
       "0   20MICRONS                        20 Microns Limited      EQ   \n",
       "1  21STCENMGM  21st Century Management Services Limited      EQ   \n",
       "2   3IINFOLTD                       3i Infotech Limited      EQ   \n",
       "3     3MINDIA                          3M India Limited      EQ   \n",
       "4      3PLAND                  3P Land Holdings Limited      EQ   \n",
       "\n",
       "   DATE OF LISTING   PAID UP VALUE   MARKET LOT   ISIN NUMBER   FACE VALUE  \n",
       "0      06-OCT-2008               5            1  INE144J01027            5  \n",
       "1      03-MAY-1995              10            1  INE253B01015           10  \n",
       "2      22-OCT-2021              10            1  INE748C01038           10  \n",
       "3      13-AUG-2004              10            1  INE470A01017           10  \n",
       "4      19-JUL-1995               2            1  INE105C01023            2  "
      ]
     },
     "execution_count": 35,
     "metadata": {},
     "output_type": "execute_result"
    }
   ],
   "source": [
    "df.head()"
   ]
  },
  {
   "cell_type": "code",
   "execution_count": 25,
   "id": "380ab78b",
   "metadata": {},
   "outputs": [
    {
     "data": {
      "text/plain": [
       "Index(['SYMBOL', 'NAME OF COMPANY', ' SERIES', ' DATE OF LISTING',\n",
       "       ' PAID UP VALUE', ' MARKET LOT', ' ISIN NUMBER', ' FACE VALUE'],\n",
       "      dtype='object')"
      ]
     },
     "execution_count": 25,
     "metadata": {},
     "output_type": "execute_result"
    }
   ],
   "source": [
    "df.columns"
   ]
  },
  {
   "cell_type": "code",
   "execution_count": 102,
   "id": "b96e13e7",
   "metadata": {},
   "outputs": [],
   "source": [
    "cursor.execute(\"create table equity (`SYMBOL` varchar(150), `NAME_OF_COMPANY`  varchar(150), `SERIES` varchar(150),  `DATE OF LISTING` varchar(50),  `PAID UP VALUE` INT,   `MARKET LOT` int,  `ISIN NUMBER` varchar(150),  `FACE VALUE` int)\")"
   ]
  },
  {
   "cell_type": "code",
   "execution_count": 104,
   "id": "542f593b",
   "metadata": {},
   "outputs": [],
   "source": [
    "#for r in df.itertuples():\n",
    "cursor.executemany('''INSERT INTO equity(`SYMBOL`, `NAME OF COMPANY`, `SERIES`, `DATE OF LISTING`,`PAID UP VALUE`, `MARKET LOT`, `ISIN NUMBER`, `FACE VALUE`) VALUES(%s,%s,%s,%s,%s,%s,%s,%s)''',b) \n",
    "conn.commit()"
   ]
  },
  {
   "cell_type": "code",
   "execution_count": 122,
   "id": "91dbe2a1",
   "metadata": {},
   "outputs": [],
   "source": [
    "with open(\"C:/Users/anush/Videos/zing42/cm07OCT2022bhav.csv/cm07OCT2022bhav.csv\") as cm0:\n",
    "    f2=csv.reader(cm0)\n",
    "    vals=[]\n",
    "    for r in f2:\n",
    "        v=(r[0],r[1],r[2],r[3],r[4],r[5],r[6],r[7],r[8],r[9],r[10],r[11],r[12])\n",
    "        vals.append(v)"
   ]
  },
  {
   "cell_type": "code",
   "execution_count": 124,
   "id": "98621048",
   "metadata": {},
   "outputs": [],
   "source": [
    "b=vals[1:]"
   ]
  },
  {
   "cell_type": "code",
   "execution_count": 107,
   "id": "ea1f9e3d",
   "metadata": {},
   "outputs": [],
   "source": [
    "df=pd.read_csv('C:/Users/anush/Videos/zing42/cm07OCT2022bhav.csv/cm07OCT2022bhav.csv')"
   ]
  },
  {
   "cell_type": "code",
   "execution_count": 112,
   "id": "73434e48",
   "metadata": {},
   "outputs": [
    {
     "data": {
      "text/html": [
       "<div>\n",
       "<style scoped>\n",
       "    .dataframe tbody tr th:only-of-type {\n",
       "        vertical-align: middle;\n",
       "    }\n",
       "\n",
       "    .dataframe tbody tr th {\n",
       "        vertical-align: top;\n",
       "    }\n",
       "\n",
       "    .dataframe thead th {\n",
       "        text-align: right;\n",
       "    }\n",
       "</style>\n",
       "<table border=\"1\" class=\"dataframe\">\n",
       "  <thead>\n",
       "    <tr style=\"text-align: right;\">\n",
       "      <th></th>\n",
       "      <th>SYMBOL</th>\n",
       "      <th>SERIES</th>\n",
       "      <th>OPEN</th>\n",
       "      <th>HIGH</th>\n",
       "      <th>LOW</th>\n",
       "      <th>CLOSE</th>\n",
       "      <th>LAST</th>\n",
       "      <th>PREVCLOSE</th>\n",
       "      <th>TOTTRDQTY</th>\n",
       "      <th>TOTTRDVAL</th>\n",
       "      <th>TIMESTAMP</th>\n",
       "      <th>TOTALTRADES</th>\n",
       "      <th>ISIN</th>\n",
       "      <th>Unnamed: 13</th>\n",
       "    </tr>\n",
       "  </thead>\n",
       "  <tbody>\n",
       "    <tr>\n",
       "      <th>0</th>\n",
       "      <td>1018GS2026</td>\n",
       "      <td>GS</td>\n",
       "      <td>112.00</td>\n",
       "      <td>112.00</td>\n",
       "      <td>112.00</td>\n",
       "      <td>112.00</td>\n",
       "      <td>112.00</td>\n",
       "      <td>111.73</td>\n",
       "      <td>1</td>\n",
       "      <td>112.0</td>\n",
       "      <td>07-OCT-2022</td>\n",
       "      <td>1</td>\n",
       "      <td>IN0020010081</td>\n",
       "      <td>NaN</td>\n",
       "    </tr>\n",
       "    <tr>\n",
       "      <th>1</th>\n",
       "      <td>20MICRONS</td>\n",
       "      <td>EQ</td>\n",
       "      <td>99.00</td>\n",
       "      <td>101.95</td>\n",
       "      <td>97.55</td>\n",
       "      <td>100.40</td>\n",
       "      <td>100.20</td>\n",
       "      <td>98.60</td>\n",
       "      <td>142139</td>\n",
       "      <td>14210661.5</td>\n",
       "      <td>07-OCT-2022</td>\n",
       "      <td>3123</td>\n",
       "      <td>INE144J01027</td>\n",
       "      <td>NaN</td>\n",
       "    </tr>\n",
       "    <tr>\n",
       "      <th>2</th>\n",
       "      <td>21STCENMGM</td>\n",
       "      <td>EQ</td>\n",
       "      <td>23.00</td>\n",
       "      <td>23.50</td>\n",
       "      <td>23.00</td>\n",
       "      <td>23.50</td>\n",
       "      <td>23.50</td>\n",
       "      <td>23.05</td>\n",
       "      <td>4735</td>\n",
       "      <td>110724.5</td>\n",
       "      <td>07-OCT-2022</td>\n",
       "      <td>31</td>\n",
       "      <td>INE253B01015</td>\n",
       "      <td>NaN</td>\n",
       "    </tr>\n",
       "    <tr>\n",
       "      <th>3</th>\n",
       "      <td>364D060723</td>\n",
       "      <td>TB</td>\n",
       "      <td>95.15</td>\n",
       "      <td>95.15</td>\n",
       "      <td>95.15</td>\n",
       "      <td>95.15</td>\n",
       "      <td>95.15</td>\n",
       "      <td>94.50</td>\n",
       "      <td>30000</td>\n",
       "      <td>2854500.0</td>\n",
       "      <td>07-OCT-2022</td>\n",
       "      <td>43</td>\n",
       "      <td>IN002022Z143</td>\n",
       "      <td>NaN</td>\n",
       "    </tr>\n",
       "    <tr>\n",
       "      <th>4</th>\n",
       "      <td>364D070923</td>\n",
       "      <td>TB</td>\n",
       "      <td>95.00</td>\n",
       "      <td>95.00</td>\n",
       "      <td>95.00</td>\n",
       "      <td>95.00</td>\n",
       "      <td>95.00</td>\n",
       "      <td>94.50</td>\n",
       "      <td>1000</td>\n",
       "      <td>95000.0</td>\n",
       "      <td>07-OCT-2022</td>\n",
       "      <td>1</td>\n",
       "      <td>IN002022Z234</td>\n",
       "      <td>NaN</td>\n",
       "    </tr>\n",
       "  </tbody>\n",
       "</table>\n",
       "</div>"
      ],
      "text/plain": [
       "       SYMBOL SERIES    OPEN    HIGH     LOW   CLOSE    LAST  PREVCLOSE  \\\n",
       "0  1018GS2026     GS  112.00  112.00  112.00  112.00  112.00     111.73   \n",
       "1   20MICRONS     EQ   99.00  101.95   97.55  100.40  100.20      98.60   \n",
       "2  21STCENMGM     EQ   23.00   23.50   23.00   23.50   23.50      23.05   \n",
       "3  364D060723     TB   95.15   95.15   95.15   95.15   95.15      94.50   \n",
       "4  364D070923     TB   95.00   95.00   95.00   95.00   95.00      94.50   \n",
       "\n",
       "   TOTTRDQTY   TOTTRDVAL    TIMESTAMP  TOTALTRADES          ISIN  Unnamed: 13  \n",
       "0          1       112.0  07-OCT-2022            1  IN0020010081          NaN  \n",
       "1     142139  14210661.5  07-OCT-2022         3123  INE144J01027          NaN  \n",
       "2       4735    110724.5  07-OCT-2022           31  INE253B01015          NaN  \n",
       "3      30000   2854500.0  07-OCT-2022           43  IN002022Z143          NaN  \n",
       "4       1000     95000.0  07-OCT-2022            1  IN002022Z234          NaN  "
      ]
     },
     "execution_count": 112,
     "metadata": {},
     "output_type": "execute_result"
    }
   ],
   "source": [
    "df.head()"
   ]
  },
  {
   "cell_type": "code",
   "execution_count": 113,
   "id": "5b7b17f2",
   "metadata": {},
   "outputs": [
    {
     "data": {
      "text/plain": [
       "Index(['SYMBOL', 'SERIES', 'OPEN', 'HIGH', 'LOW', 'CLOSE', 'LAST', 'PREVCLOSE',\n",
       "       'TOTTRDQTY', 'TOTTRDVAL', 'TIMESTAMP', 'TOTALTRADES', 'ISIN',\n",
       "       'Unnamed: 13'],\n",
       "      dtype='object')"
      ]
     },
     "execution_count": 113,
     "metadata": {},
     "output_type": "execute_result"
    }
   ],
   "source": [
    "df.columns"
   ]
  },
  {
   "cell_type": "code",
   "execution_count": 127,
   "id": "752a7470",
   "metadata": {},
   "outputs": [],
   "source": [
    "cursor.execute(\"create table cm07 (`SYMBOL` varchar(100), `SERIES` varchar(50), `OPEN` float, `HIGH` float, `LOW` float, `CLOSE` float, `LAST` float, `PREVCLOSE` float,`TOTTRDQTY` int, `TOTTRDVAL` float, `TIMESTAMP` varchar(50), `TOTALTRADES` int, `ISIN` varchar(150))\")"
   ]
  },
  {
   "cell_type": "code",
   "execution_count": 128,
   "id": "a36f8c25",
   "metadata": {},
   "outputs": [],
   "source": [
    "cursor.executemany('''INSERT INTO cm07(`SYMBOL`, `SERIES`, `OPEN`, `HIGH`, `LOW`, `CLOSE` , `LAST`, `PREVCLOSE` ,`TOTTRDQTY`, `TOTTRDVAL` , `TIMESTAMP`, `TOTALTRADES`, `ISIN`) VALUES(%s,%s,%s,%s,%s,%s,%s,%s,%s,%s,%s,%s,%s)''',b)"
   ]
  },
  {
   "cell_type": "code",
   "execution_count": null,
   "id": "b8546183",
   "metadata": {},
   "outputs": [],
   "source": []
  }
 ],
 "metadata": {
  "kernelspec": {
   "display_name": "Python 3 (ipykernel)",
   "language": "python",
   "name": "python3"
  },
  "language_info": {
   "codemirror_mode": {
    "name": "ipython",
    "version": 3
   },
   "file_extension": ".py",
   "mimetype": "text/x-python",
   "name": "python",
   "nbconvert_exporter": "python",
   "pygments_lexer": "ipython3",
   "version": "3.9.12"
  }
 },
 "nbformat": 4,
 "nbformat_minor": 5
}
